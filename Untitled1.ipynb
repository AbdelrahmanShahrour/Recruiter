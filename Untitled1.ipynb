{
 "cells": [
  {
   "cell_type": "code",
   "execution_count": 11,
   "id": "0470405c",
   "metadata": {},
   "outputs": [],
   "source": [
    "is_must = \"AI, Machine Learning\"\n",
    "is_plus = \"Transformers, Self Superfised learning\""
   ]
  },
  {
   "cell_type": "code",
   "execution_count": 12,
   "id": "e135d3f5",
   "metadata": {},
   "outputs": [],
   "source": [
    "is_must = is_must.split(',')\n",
    "is_plus = is_plus.split(',')"
   ]
  },
  {
   "cell_type": "code",
   "execution_count": 15,
   "id": "c9459dfa",
   "metadata": {
    "scrolled": true
   },
   "outputs": [
    {
     "name": "stdout",
     "output_type": "stream",
     "text": [
      "['AI', ' Machine Learning', 'Transformers']\n",
      "['AI', ' Machine Learning', 'Transformers', ' Self Superfised learning']\n"
     ]
    }
   ],
   "source": [
    "for i in range(len(is_plus)):\n",
    "    m = is_must\n",
    "    m.append(is_plus[i])\n",
    "    print(m)"
   ]
  },
  {
   "cell_type": "code",
   "execution_count": 16,
   "id": "91bbf4d3",
   "metadata": {},
   "outputs": [
    {
     "data": {
      "text/plain": [
       "['AI', ' Machine Learning', 'Transformers', ' Self Superfised learning']"
      ]
     },
     "execution_count": 16,
     "metadata": {},
     "output_type": "execute_result"
    }
   ],
   "source": [
    "is_must"
   ]
  },
  {
   "cell_type": "code",
   "execution_count": 14,
   "id": "b9780aaa",
   "metadata": {},
   "outputs": [
    {
     "data": {
      "text/plain": [
       "'Transformers'"
      ]
     },
     "execution_count": 14,
     "metadata": {},
     "output_type": "execute_result"
    }
   ],
   "source": [
    "is_plus[0]"
   ]
  },
  {
   "cell_type": "code",
   "execution_count": null,
   "id": "84d354dd",
   "metadata": {},
   "outputs": [],
   "source": []
  }
 ],
 "metadata": {
  "kernelspec": {
   "display_name": "Python 3 (ipykernel)",
   "language": "python",
   "name": "python3"
  },
  "language_info": {
   "codemirror_mode": {
    "name": "ipython",
    "version": 3
   },
   "file_extension": ".py",
   "mimetype": "text/x-python",
   "name": "python",
   "nbconvert_exporter": "python",
   "pygments_lexer": "ipython3",
   "version": "3.11.3"
  }
 },
 "nbformat": 4,
 "nbformat_minor": 5
}
